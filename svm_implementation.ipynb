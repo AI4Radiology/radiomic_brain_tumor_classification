{
 "cells": [
  {
   "cell_type": "markdown",
   "id": "8da677f3",
   "metadata": {},
   "source": [
    "## Comparacion de SVM y una NN de resultados de clasificacion a partir de datos aumentados por oversampling de la categoria minoritaria. "
   ]
  },
  {
   "cell_type": "code",
   "execution_count": 174,
   "id": "c161d83e",
   "metadata": {},
   "outputs": [],
   "source": [
    "import pandas as pd\n",
    "import numpy as np\n",
    "from sklearn.model_selection import train_test_split\n",
    "df=pd.read_csv('../mixed_data/prepared_train_data.csv')\n",
    "df.set_index('Id', inplace=True)"
   ]
  },
  {
   "cell_type": "code",
   "execution_count": 175,
   "id": "2e8b6e98",
   "metadata": {},
   "outputs": [],
   "source": [
    "df, df_test = train_test_split(\n",
    "    df,\n",
    "    test_size=0.2,\n",
    "    stratify=df['highGrade'],  # mantiene la proporción de clases\"?\n",
    "    random_state=51\n",
    ")"
   ]
  },
  {
   "cell_type": "code",
   "execution_count": 176,
   "id": "1c7dc7ec",
   "metadata": {},
   "outputs": [
    {
     "name": "stdout",
     "output_type": "stream",
     "text": [
      "                                    feature  mean_esBase_True  \\\n",
      "10          TotalEnergy/firstorder/original      1.251749e+09   \n",
      "3     BoundingBox/Mask-original/diagnostics      6.408789e+03   \n",
      "12       VoxelNum/Mask-original/diagnostics      4.505632e+03   \n",
      "2          90Percentile/firstorder/original      3.132316e+02   \n",
      "7                Median/firstorder/original      2.383158e+02   \n",
      "9       RootMeanSquared/firstorder/original      2.462397e+02   \n",
      "6                  Mean/firstorder/original      2.386023e+02   \n",
      "1          10Percentile/firstorder/original      1.699895e+02   \n",
      "8               Minimum/firstorder/original      4.105263e+01   \n",
      "0                                Unnamed: 0      5.026316e+01   \n",
      "5     GrayLevelNonUniformity/glrlm/original      2.396631e+02   \n",
      "14  x.BoundingBox/Mask-original/diagnostics      1.218421e+02   \n",
      "15  y.BoundingBox/Mask-original/diagnostics      1.025789e+02   \n",
      "13            ZonePercentage/glszm/original      1.357572e-01   \n",
      "4                 Coarseness/ngtdm/original      6.936049e-03   \n",
      "11      VolumeNum/Mask-original/diagnostics      1.000000e+00   \n",
      "\n",
      "    mean_esBase_False    difference       p_value  \n",
      "10       9.631955e+08  2.885530e+08  5.744008e-01  \n",
      "3        4.452455e+03  1.956335e+03  1.980076e-01  \n",
      "12       2.751455e+03  1.754177e+03  1.108559e-01  \n",
      "2        6.290618e+02  3.158302e+02  1.205634e-05  \n",
      "7        5.242273e+02  2.859115e+02  2.023891e-06  \n",
      "9        5.300205e+02  2.837808e+02  2.731775e-06  \n",
      "6        5.217000e+02  2.830977e+02  2.328780e-06  \n",
      "1        4.106891e+02  2.406996e+02  1.750240e-06  \n",
      "8        2.058364e+02  1.647837e+02  1.381112e-06  \n",
      "0        1.386727e+02  8.840957e+01  5.885592e-10  \n",
      "5        1.665550e+02  7.310810e+01  4.154287e-02  \n",
      "14       9.118182e+01  3.066029e+01  4.386737e-02  \n",
      "15       8.374545e+01  1.883349e+01  1.352074e-01  \n",
      "13       2.119656e-01  7.620846e-02  1.293787e-02  \n",
      "4        8.691861e-03  1.755812e-03  2.984718e-01  \n",
      "11       1.000000e+00  0.000000e+00           NaN  \n"
     ]
    },
    {
     "name": "stderr",
     "output_type": "stream",
     "text": [
      "/home/luis/anaconda3/envs/pdg_env/lib/python3.10/site-packages/scipy/stats/_axis_nan_policy.py:586: RuntimeWarning: Precision loss occurred in moment calculation due to catastrophic cancellation. This occurs when the data are nearly identical. Results may be unreliable.\n",
      "  res = hypotest_fun_out(*samples, **kwds)\n"
     ]
    }
   ],
   "source": [
    "import pandas as pd\n",
    "from scipy.stats import ttest_ind\n",
    "\n",
    "# Filtra solo los registros donde highGrade es False\n",
    "df_filtered = df[df['highGrade'] == False]\n",
    "\n",
    "# Divide el DataFrame filtrado por sesBase (True y False)\n",
    "group_true = df_filtered[df_filtered['esBase'] == True]\n",
    "group_false = df_filtered[df_filtered['esBase'] == False]\n",
    "\n",
    "# Selecciona solo las columnas numéricas (ignorando columnas categóricas u object)\n",
    "numeric_cols = df_filtered.select_dtypes(include='number').columns\n",
    "\n",
    "# Elimina las columnas 'highGrade' y 'sesBase' de la comparación\n",
    "numeric_cols = numeric_cols.drop(['highGrade', 'esBase'], errors='ignore')\n",
    "\n",
    "# Diccionario para almacenar resultados\n",
    "results = []\n",
    "\n",
    "for col in numeric_cols:\n",
    "    mean_true = group_true[col].mean()\n",
    "    mean_false = group_false[col].mean()\n",
    "    t_stat, p_val = ttest_ind(group_true[col], group_false[col], equal_var=False, nan_policy='omit')\n",
    "    \n",
    "    results.append({\n",
    "        'feature': col,\n",
    "        'mean_esBase_True': mean_true,\n",
    "        'mean_esBase_False': mean_false,\n",
    "        'difference': abs(mean_true - mean_false),\n",
    "        'p_value': p_val\n",
    "    })\n",
    "\n",
    "# Convertir a DataFrame para visualizar\n",
    "results_df = pd.DataFrame(results)\n",
    "results_df = results_df.sort_values(by='difference', ascending=False)\n",
    "\n",
    "# Mostrar las columnas con mayor diferencia\n",
    "print(results_df.head(20))  # o usa display(results_df) si estás en Jupyter\n"
   ]
  },
  {
   "cell_type": "code",
   "execution_count": 177,
   "id": "54276d91",
   "metadata": {},
   "outputs": [
    {
     "data": {
      "text/plain": [
       "'df_true = df[df[\\'highGrade\\'] == True]\\ndf_false = df[df[\\'highGrade\\'] == False]\\n\\ntest_size = int(0.2 * len(df))\\nhalf_test_size = test_size // 2\\n\\ntest_true = df_true.sample(n=half_test_size, random_state=42)\\ntest_false = df_false.sample(n=half_test_size, random_state=42)\\n\\ndf_test = pd.concat([test_true, test_false]) \\n\\ndf = df.drop(df_test.index)\\n\\nprint(\"DATASET TRAINING: \", len(df), \" REGISTROS\")\\n\\nprint(\"DATASET TESTING: \", len(df_test), \" REGISTROS\")'"
      ]
     },
     "execution_count": 177,
     "metadata": {},
     "output_type": "execute_result"
    }
   ],
   "source": [
    "'''df_true = df[df['highGrade'] == True]\n",
    "df_false = df[df['highGrade'] == False]\n",
    "\n",
    "test_size = int(0.2 * len(df))\n",
    "half_test_size = test_size // 2\n",
    "\n",
    "test_true = df_true.sample(n=half_test_size, random_state=42)\n",
    "test_false = df_false.sample(n=half_test_size, random_state=42)\n",
    "\n",
    "df_test = pd.concat([test_true, test_false]) \n",
    "\n",
    "df = df.drop(df_test.index)\n",
    "\n",
    "print(\"DATASET TRAINING: \", len(df), \" REGISTROS\")\n",
    "\n",
    "print(\"DATASET TESTING: \", len(df_test), \" REGISTROS\")'''"
   ]
  },
  {
   "cell_type": "markdown",
   "id": "548b83b4",
   "metadata": {},
   "source": [
    "### Oversampling\n",
    "\n",
    "Este metodo duplica registros de la clase minoritaria aletaoriamente hasta llegar a balancear el dataset. En este caso buscamos un balance del 50/50.\n",
    "Esto lo logra calculando la relacion entre high y low grades, para luego aplicar esta relacion a la hora de seleccionar registros para el dataset resultante.        "
   ]
  },
  {
   "cell_type": "code",
   "execution_count": 178,
   "id": "decef720",
   "metadata": {},
   "outputs": [
    {
     "data": {
      "text/plain": [
       "\" \\nindices_0 = df[df['highGrade'] == False].index  \\nindices_1 = df[df['highGrade'] == True].index   \\nindices = indices_0.union(indices_1)\\n\\n\\nweight_minority_class = len(indices_1) / len(indices_0)\\n\\n\\nweights_0 = pd.Series(weight_minority_class, index=indices_0)\\nweights_1 = pd.Series(1.0, index=indices_1)\\nweights = pd.concat([weights_0, weights_1])\\nweights = weights / weights.sum()  # Normalizar\\n\\nsampled_indices = np.random.choice(weights.index, size=len(weights), p=weights.values)\\n\\n\\ndf_oversampled = df.loc[sampled_indices]\\n\\n\\npositive_frac = round(100 * df_oversampled['highGrade'].mean(), 3)\\nprint(f'Fraction of positive labels in oversampled data: {positive_frac}%')\\ndf_oversampled.mean()\""
      ]
     },
     "execution_count": 178,
     "metadata": {},
     "output_type": "execute_result"
    }
   ],
   "source": [
    "''' \n",
    "indices_0 = df[df['highGrade'] == False].index  \n",
    "indices_1 = df[df['highGrade'] == True].index   \n",
    "indices = indices_0.union(indices_1)\n",
    "\n",
    "\n",
    "weight_minority_class = len(indices_1) / len(indices_0)\n",
    "\n",
    "\n",
    "weights_0 = pd.Series(weight_minority_class, index=indices_0)\n",
    "weights_1 = pd.Series(1.0, index=indices_1)\n",
    "weights = pd.concat([weights_0, weights_1])\n",
    "weights = weights / weights.sum()  # Normalizar\n",
    "\n",
    "sampled_indices = np.random.choice(weights.index, size=len(weights), p=weights.values)\n",
    "\n",
    "\n",
    "df_oversampled = df.loc[sampled_indices]\n",
    "\n",
    "\n",
    "positive_frac = round(100 * df_oversampled['highGrade'].mean(), 3)\n",
    "print(f'Fraction of positive labels in oversampled data: {positive_frac}%')\n",
    "df_oversampled.mean()'''"
   ]
  },
  {
   "cell_type": "code",
   "execution_count": 179,
   "id": "67faa5d7",
   "metadata": {},
   "outputs": [
    {
     "data": {
      "text/plain": [
       "\"from imblearn.over_sampling import SMOTE\\n\\n# Asumiendo df tiene la columna 'highGrade' como target\\nX = df.drop(columns=['highGrade'])\\ny = df['highGrade']\\n\\nsmote = SMOTE(random_state=42)\\nX_resampled, y_resampled = smote.fit_resample(X, y)\\n\\n# Convertimos de nuevo a DataFrame para mantener la consistencia con df_oversampled\\ndf_oversampled = X_resampled.copy()\\ndf_oversampled['highGrade'] = y_resampled\\n\\npositive_frac = round(100 * df_oversampled['highGrade'].mean(), 3)\\nprint(f'Fraction of positive labels in oversampled data: {positive_frac}%')\""
      ]
     },
     "execution_count": 179,
     "metadata": {},
     "output_type": "execute_result"
    }
   ],
   "source": [
    "'''from imblearn.over_sampling import SMOTE\n",
    "\n",
    "# Asumiendo df tiene la columna 'highGrade' como target\n",
    "X = df.drop(columns=['highGrade'])\n",
    "y = df['highGrade']\n",
    "\n",
    "smote = SMOTE(random_state=42)\n",
    "X_resampled, y_resampled = smote.fit_resample(X, y)\n",
    "\n",
    "# Convertimos de nuevo a DataFrame para mantener la consistencia con df_oversampled\n",
    "df_oversampled = X_resampled.copy()\n",
    "df_oversampled['highGrade'] = y_resampled\n",
    "\n",
    "positive_frac = round(100 * df_oversampled['highGrade'].mean(), 3)\n",
    "print(f'Fraction of positive labels in oversampled data: {positive_frac}%')'''"
   ]
  },
  {
   "cell_type": "code",
   "execution_count": 180,
   "id": "542463d9",
   "metadata": {},
   "outputs": [],
   "source": [
    "from sklearn.preprocessing import StandardScaler\n",
    "import pickle\n",
    "\n",
    "X = df.drop(columns=['highGrade'])\n",
    "X_test= df_test.drop(columns=['highGrade']) # for testing later\n",
    "\n",
    "\n",
    "scaler = StandardScaler()\n",
    "X_scaled = scaler.fit_transform(X)\n",
    "X_test_scaled = scaler.transform(X_test) #for testing later\n",
    "\n",
    "# Guardar el scaler entrenado\n",
    "with open(\"../despliegue/botero-mlops-u2-main/backend/resources/scaler.pkl\", \"wb\") as f:\n",
    "    pickle.dump(scaler, f)\n",
    "\n",
    "X_scaled_df= pd.DataFrame(X_scaled, columns=X.columns)\n",
    "X_test_scaled_df = pd.DataFrame(X_test_scaled, columns=X_test.columns)\n",
    "X_all = pd.concat([X_scaled_df, X_test_scaled_df], axis=0)\n",
    "\n",
    "y = df['highGrade']\n",
    "y_test = df_test['highGrade']\n",
    "\n",
    "y_all = np.concatenate([y.values, y_test.values])\n",
    "#y_all = np.vstack((y, y_test))"
   ]
  },
  {
   "cell_type": "code",
   "execution_count": 181,
   "id": "16926ffb",
   "metadata": {},
   "outputs": [
    {
     "name": "stdout",
     "output_type": "stream",
     "text": [
      "🔍 Mejores hiperparámetros: {'C': 1, 'coef0': 1, 'degree': 2, 'gamma': 'scale', 'kernel': 'poly'}\n",
      "\n",
      "📊 Classification Report:\n",
      "              precision    recall  f1-score   support\n",
      "\n",
      "       False       1.00      0.84      0.91        19\n",
      "        True       0.84      1.00      0.91        16\n",
      "\n",
      "    accuracy                           0.91        35\n",
      "   macro avg       0.92      0.92      0.91        35\n",
      "weighted avg       0.93      0.91      0.91        35\n",
      "\n"
     ]
    },
    {
     "data": {
      "image/png": "[encoded data removed]",
      "text/plain": [
       "<Figure size 600x400 with 2 Axes>"
      ]
     },
     "metadata": {},
     "output_type": "display_data"
    },
    {
     "data": {
      "image/png": "[encoded data removed]",
      "text/plain": [
       "<Figure size 600x400 with 1 Axes>"
      ]
     },
     "metadata": {},
     "output_type": "display_data"
    },
    {
     "name": "stdout",
     "output_type": "stream",
     "text": [
      "\n",
      "📈 Cross-Validation Accuracy: 0.8614 ± 0.0706\n"
     ]
    }
   ],
   "source": [
    "import matplotlib.pyplot as plt\n",
    "import seaborn as sns\n",
    "from sklearn.metrics import (\n",
    "    classification_report, confusion_matrix,\n",
    "    roc_curve, auc, RocCurveDisplay\n",
    ")\n",
    "from sklearn.model_selection import cross_val_score\n",
    "import numpy as np\n",
    "from sklearn.svm import SVC\n",
    "from sklearn.model_selection import GridSearchCV\n",
    "from sklearn.metrics import classification_report\n",
    "from sklearn.preprocessing import StandardScaler\n",
    "\n",
    "y = df['highGrade']\n",
    "\n",
    "y_test = df_test['highGrade']\n",
    "\n",
    "# =======================\n",
    "# ENTRENAMIENTO SVM\n",
    "# =======================\n",
    "svm = SVC(probability=True)\n",
    "\n",
    "param_grid = {\n",
    "    'kernel': ['linear', 'poly', 'rbf', 'sigmoid'],\n",
    "    'C': [0.1, 1, 10],\n",
    "    'gamma': ['scale', 'auto'],\n",
    "    'degree': [2, 3],\n",
    "    'coef0': [0, 1]\n",
    "}\n",
    "\n",
    "grid_search = GridSearchCV(svm, param_grid, cv=5, scoring='accuracy', n_jobs=-1)\n",
    "grid_search.fit(X_scaled_df, y)\n",
    "\n",
    "best_svm = grid_search.best_estimator_\n",
    "print(\"🔍 Mejores hiperparámetros:\", grid_search.best_params_)\n",
    "\n",
    "# =======================\n",
    "# EVALUACIÓN EN TEST\n",
    "# =======================\n",
    "y_pred = best_svm.predict(X_test_scaled_df)\n",
    "y_proba = best_svm.predict_proba(X_test_scaled_df)[:, 1]  # Probabilidad de clase positiva\n",
    "\n",
    "print(\"\\n📊 Classification Report:\")\n",
    "print(classification_report(y_test, y_pred))\n",
    "\n",
    "# =======================\n",
    "# MATRIZ DE CONFUSIÓN\n",
    "# =======================\n",
    "cm = confusion_matrix(y_test, y_pred)\n",
    "plt.figure(figsize=(6, 4))\n",
    "sns.heatmap(cm, annot=True, fmt=\"d\", cmap=\"Blues\")\n",
    "plt.title(\"Matriz de Confusión\")\n",
    "plt.xlabel(\"Predicción\")\n",
    "plt.ylabel(\"Real\")\n",
    "plt.tight_layout()\n",
    "plt.show()\n",
    "\n",
    "# =======================\n",
    "# CURVA ROC Y AUC\n",
    "# =======================\n",
    "fpr, tpr, thresholds = roc_curve(y_test, y_proba)\n",
    "roc_auc = auc(fpr, tpr)\n",
    "\n",
    "plt.figure(figsize=(6, 4))\n",
    "plt.plot(fpr, tpr, color='darkorange', label=f'AUC = {roc_auc:.2f}')\n",
    "plt.plot([0, 1], [0, 1], linestyle='--', color='gray')\n",
    "plt.xlabel('Tasa de Falsos Positivos')\n",
    "plt.ylabel('Tasa de Verdaderos Positivos')\n",
    "plt.title('Curva ROC')\n",
    "plt.legend(loc='lower right')\n",
    "plt.grid()\n",
    "plt.tight_layout()\n",
    "plt.show()\n",
    "\n",
    "# =======================\n",
    "# VALIDACIÓN CRUZADA\n",
    "# =======================\n",
    "scores = cross_val_score(best_svm, X_scaled, y, cv=5, scoring='accuracy')\n",
    "print(f\"\\n📈 Cross-Validation Accuracy: {scores.mean():.4f} ± {scores.std():.4f}\")\n"
   ]
  },
  {
   "cell_type": "code",
   "execution_count": 182,
   "id": "40281612",
   "metadata": {},
   "outputs": [],
   "source": [
    "import pickle\n",
    "with open('../despliegue/botero-mlops-u2-main/backend/resources/svm_model.pkl', 'wb') as f:\n",
    "    pickle.dump(best_svm, f)"
   ]
  },
  {
   "cell_type": "code",
   "execution_count": 183,
   "id": "3f64266c",
   "metadata": {},
   "outputs": [
    {
     "name": "stdout",
     "output_type": "stream",
     "text": [
      "Cluster balance: {0: 10, 1: 162}\n",
      "Cluster vs. True Label:\n",
      " true_label   0   1\n",
      "cluster           \n",
      "0            2   8\n",
      "1           91  71\n"
     ]
    }
   ],
   "source": [
    "import numpy as np\n",
    "import pandas as pd\n",
    "from sklearn.cluster import KMeans\n",
    "best_k = 2\n",
    "kmeans_final = KMeans(n_clusters=best_k, random_state=42)\n",
    "clusters = kmeans_final.fit_predict(X_all)\n",
    "\n",
    "\n",
    "\n",
    "\n",
    "unique, counts = np.unique(clusters, return_counts=True)\n",
    "cluster_balance = dict(zip(unique, counts))\n",
    "\n",
    "print(\"Cluster balance:\", cluster_balance)\n",
    "\n",
    "\n",
    "\n",
    "\n",
    "df_cluster_comparison = pd.DataFrame({\n",
    "    'cluster': clusters,\n",
    "    'true_label': y_all.astype(int)  # Convert booleans to 0 (False) and 1 (True)\n",
    "})\n",
    "\n",
    "# Show how each cluster overlaps with true labels\n",
    "cluster_vs_label = pd.crosstab(df_cluster_comparison['cluster'], df_cluster_comparison['true_label'])\n",
    "print(\"Cluster vs. True Label:\\n\", cluster_vs_label)\n",
    "\n",
    "\n",
    "\n",
    "\n"
   ]
  }
 ],
 "metadata": {
  "kernelspec": {
   "display_name": "pdg_env",
   "language": "python",
   "name": "python3"
  },
  "language_info": {
   "codemirror_mode": {
    "name": "ipython",
    "version": 3
   },
   "file_extension": ".py",
   "mimetype": "text/x-python",
   "name": "python",
   "nbconvert_exporter": "python",
   "pygments_lexer": "ipython3",
   "version": "3.10.16"
  }
 },
 "nbformat": 4,
 "nbformat_minor": 5
}
